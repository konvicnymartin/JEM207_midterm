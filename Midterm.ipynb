{
 "cells": [
  {
   "cell_type": "markdown",
   "metadata": {},
   "source": [
    "# Midterm\n",
    "Konvicny Martin"
   ]
  },
  {
   "cell_type": "code",
   "execution_count": 179,
   "metadata": {},
   "outputs": [],
   "source": [
    "import json\n",
    "import requests\n",
    "import pandas as pd"
   ]
  },
  {
   "cell_type": "code",
   "execution_count": 180,
   "metadata": {},
   "outputs": [],
   "source": [
    "payload = '{\"cuni\":\"66805807\"}'\n",
    "r = requests.post('https://ies-midterm.soulution.rocks/login',payload)"
   ]
  },
  {
   "cell_type": "code",
   "execution_count": 181,
   "metadata": {},
   "outputs": [
    {
     "data": {
      "text/plain": [
       "<Response [200]>"
      ]
     },
     "execution_count": 181,
     "metadata": {},
     "output_type": "execute_result"
    }
   ],
   "source": [
    "r"
   ]
  },
  {
   "cell_type": "code",
   "execution_count": 182,
   "metadata": {},
   "outputs": [
    {
     "data": {
      "text/plain": [
       "{'data': {'personal_code': '1f3cf29a',\n",
       "  'dataset_ids': ['5aa21103e8',\n",
       "   'f894683be9',\n",
       "   '24f88cb68c',\n",
       "   '775352ba11',\n",
       "   '86c214b421']},\n",
       " 'message': 'Hello, Konvičný Martin! Good luck with the midterm. GET your data set from /data/file_id endpoint; use the codes you received in the data response as the file_id parameter! Print the personal code in your notebook.'}"
      ]
     },
     "execution_count": 182,
     "metadata": {},
     "output_type": "execute_result"
    }
   ],
   "source": [
    "outcome = json.loads(r.text)\n",
    "outcome"
   ]
  },
  {
   "cell_type": "code",
   "execution_count": 183,
   "metadata": {},
   "outputs": [
    {
     "name": "stdout",
     "output_type": "stream",
     "text": [
      "1f3cf29a\n"
     ]
    }
   ],
   "source": [
    "print(outcome['data']['personal_code'])"
   ]
  },
  {
   "cell_type": "code",
   "execution_count": 184,
   "metadata": {},
   "outputs": [
    {
     "name": "stdout",
     "output_type": "stream",
     "text": [
      "['5aa21103e8', 'f894683be9', '24f88cb68c', '775352ba11', '86c214b421']\n"
     ]
    }
   ],
   "source": [
    "codes = outcome['data']['dataset_ids']\n",
    "print(codes)"
   ]
  },
  {
   "cell_type": "code",
   "execution_count": 186,
   "metadata": {},
   "outputs": [],
   "source": [
    "dataset = {}\n",
    "n = 10\n",
    "for data_id in codes:\n",
    "    r = requests.get(url=f'https://ies-midterm.soulution.rocks/data/{data_id}')\n",
    "    i = 0\n",
    "    while r.status_code !=200:  \n",
    "        r=requests.get(url=f'https://ies-midterm.soulution.rocks/data/{data_id}')\n",
    "    d=r.json()['data']\n",
    "    ticker = d['company']\n",
    "    data = pd.DataFrame(d['data']).set_index('Date')\n",
    "    data.index = pd.to_datetime(data.index)\n",
    "    \n",
    "    dataset[ticker] = data"
   ]
  },
  {
   "cell_type": "code",
   "execution_count": 187,
   "metadata": {},
   "outputs": [],
   "source": [
    "    ticker = d['company']\n",
    "    data = pd.DataFrame(d['data']).set_index('Date')\n",
    "    data.index = pd.to_datetime(data.index)\n",
    "    \n",
    "    dataset[ticker] = data"
   ]
  },
  {
   "cell_type": "code",
   "execution_count": 198,
   "metadata": {},
   "outputs": [
    {
     "name": "stdout",
     "output_type": "stream",
     "text": [
      "                               Open                High                 Low  \\\n",
      "     Date                                                                     \n",
      "BME  2019-01-02  36.189998626708984  37.810001373291016  36.040000915527344   \n",
      "     2019-01-03   36.95000076293945                37.5  36.029998779296875   \n",
      "     2019-01-04   36.45000076293945   37.79999923706055   36.15999984741211   \n",
      "     2019-01-07                37.5   38.59000015258789                37.5   \n",
      "     2019-01-08               39.75               39.75  38.130001068115234   \n",
      "...                             ...                 ...                 ...   \n",
      "TSCO 2020-11-17   132.0800018310547   134.2100067138672   131.1199951171875   \n",
      "     2020-11-18               132.0  132.55999755859375  128.10000610351562   \n",
      "     2020-11-19   128.4600067138672   131.7899932861328               128.0   \n",
      "     2020-11-20   130.0500030517578  131.39999389648438   128.4199981689453   \n",
      "     NaT                        NaN                 NaN                 NaN   \n",
      "\n",
      "                              Close           Adj.Close   Volume  \n",
      "     Date                                                         \n",
      "BME  2019-01-02  37.630001068115234   33.53054428100586    42000  \n",
      "     2019-01-03   36.43000030517578  32.461265563964844    24600  \n",
      "     2019-01-04   37.31999969482422   33.25431823730469    34600  \n",
      "     2019-01-07   38.02000045776367    33.8780632019043    29500  \n",
      "     2019-01-08   38.43000030517578   34.24338912963867    53900  \n",
      "...                             ...                 ...      ...  \n",
      "TSCO 2020-11-17  131.67999267578125  131.27867126464844  1459400  \n",
      "     2020-11-18   128.4199981689453  128.02862548828125  1486100  \n",
      "     2020-11-19              131.25  130.84999084472656  1248100  \n",
      "     2020-11-20   129.6999969482422   129.6999969482422  1324500  \n",
      "     NaT                        NaN                 NaN      NaN  \n",
      "\n",
      "[1831 rows x 6 columns]\n"
     ]
    }
   ],
   "source": [
    "df = pd.concat(dataset)\n",
    "print(df)"
   ]
  },
  {
   "cell_type": "code",
   "execution_count": 199,
   "metadata": {},
   "outputs": [
    {
     "name": "stdout",
     "output_type": "stream",
     "text": [
      "                               Open                High                 Low  \\\n",
      "     Date                                                                     \n",
      "BME  2019-01-02  36.189998626708984  37.810001373291016  36.040000915527344   \n",
      "     2019-01-03   36.95000076293945                37.5  36.029998779296875   \n",
      "     2019-01-04   36.45000076293945   37.79999923706055   36.15999984741211   \n",
      "     2019-01-07                37.5   38.59000015258789                37.5   \n",
      "     2019-01-08               39.75               39.75  38.130001068115234   \n",
      "...                             ...                 ...                 ...   \n",
      "TSCO 2020-11-16  131.97000122070312  133.13999938964844  130.97999572753906   \n",
      "     2020-11-17   132.0800018310547   134.2100067138672   131.1199951171875   \n",
      "     2020-11-18               132.0  132.55999755859375  128.10000610351562   \n",
      "     2020-11-19   128.4600067138672   131.7899932861328               128.0   \n",
      "     2020-11-20   130.0500030517578  131.39999389648438   128.4199981689453   \n",
      "\n",
      "                              Close           Adj.Close   Volume  \n",
      "     Date                                                         \n",
      "BME  2019-01-02  37.630001068115234   33.53054428100586    42000  \n",
      "     2019-01-03   36.43000030517578  32.461265563964844    24600  \n",
      "     2019-01-04   37.31999969482422   33.25431823730469    34600  \n",
      "     2019-01-07   38.02000045776367    33.8780632019043    29500  \n",
      "     2019-01-08   38.43000030517578   34.24338912963867    53900  \n",
      "...                             ...                 ...      ...  \n",
      "TSCO 2020-11-16  132.82000732421875  132.41522216796875  1918100  \n",
      "     2020-11-17  131.67999267578125  131.27867126464844  1459400  \n",
      "     2020-11-18   128.4199981689453  128.02862548828125  1486100  \n",
      "     2020-11-19              131.25  130.84999084472656  1248100  \n",
      "     2020-11-20   129.6999969482422   129.6999969482422  1324500  \n",
      "\n",
      "[1826 rows x 6 columns]\n"
     ]
    }
   ],
   "source": [
    "df.dropna(how='all',inplace = True)\n",
    "print(df)"
   ]
  },
  {
   "cell_type": "code",
   "execution_count": 200,
   "metadata": {},
   "outputs": [
    {
     "name": "stdout",
     "output_type": "stream",
     "text": [
      "                       Open        High         Low       Close   Adj.Close  \\\n",
      "     Date                                                                     \n",
      "BME  2019-01-02   36.189999   37.810001   36.040001   37.630001   33.530544   \n",
      "     2019-01-03   36.950001   37.500000   36.029999   36.430000   32.461266   \n",
      "     2019-01-04   36.450001   37.799999   36.160000   37.320000   33.254318   \n",
      "     2019-01-07   37.500000   38.590000   37.500000   38.020000   33.878063   \n",
      "     2019-01-08   39.750000   39.750000   38.130001   38.430000   34.243389   \n",
      "...                     ...         ...         ...         ...         ...   \n",
      "TSCO 2020-11-16  131.970001  133.139999  130.979996  132.820007  132.415222   \n",
      "     2020-11-17  132.080002  134.210007  131.119995  131.679993  131.278671   \n",
      "     2020-11-18  132.000000  132.559998  128.100006  128.419998  128.028625   \n",
      "     2020-11-19  128.460007  131.789993  128.000000  131.250000  130.849991   \n",
      "     2020-11-20  130.050003  131.399994  128.419998  129.699997  129.699997   \n",
      "\n",
      "                  Volume  \n",
      "     Date                 \n",
      "BME  2019-01-02    42000  \n",
      "     2019-01-03    24600  \n",
      "     2019-01-04    34600  \n",
      "     2019-01-07    29500  \n",
      "     2019-01-08    53900  \n",
      "...                  ...  \n",
      "TSCO 2020-11-16  1918100  \n",
      "     2020-11-17  1459400  \n",
      "     2020-11-18  1486100  \n",
      "     2020-11-19  1248100  \n",
      "     2020-11-20  1324500  \n",
      "\n",
      "[1826 rows x 6 columns]\n"
     ]
    }
   ],
   "source": [
    "df = df.apply(lambda x: pd.to_numeric(x))\n",
    "print(df)"
   ]
  },
  {
   "cell_type": "code",
   "execution_count": 201,
   "metadata": {},
   "outputs": [
    {
     "name": "stdout",
     "output_type": "stream",
     "text": [
      "                         Open        High         Low       Close   Adj.Close  \\\n",
      "Ticker Date                                                                     \n",
      "BME    2019-01-02   36.189999   37.810001   36.040001   37.630001   33.530544   \n",
      "       2019-01-03   36.950001   37.500000   36.029999   36.430000   32.461266   \n",
      "       2019-01-04   36.450001   37.799999   36.160000   37.320000   33.254318   \n",
      "       2019-01-07   37.500000   38.590000   37.500000   38.020000   33.878063   \n",
      "       2019-01-08   39.750000   39.750000   38.130001   38.430000   34.243389   \n",
      "...                       ...         ...         ...         ...         ...   \n",
      "TSCO   2020-11-16  131.970001  133.139999  130.979996  132.820007  132.415222   \n",
      "       2020-11-17  132.080002  134.210007  131.119995  131.679993  131.278671   \n",
      "       2020-11-18  132.000000  132.559998  128.100006  128.419998  128.028625   \n",
      "       2020-11-19  128.460007  131.789993  128.000000  131.250000  130.849991   \n",
      "       2020-11-20  130.050003  131.399994  128.419998  129.699997  129.699997   \n",
      "\n",
      "                    Volume  \n",
      "Ticker Date                 \n",
      "BME    2019-01-02    42000  \n",
      "       2019-01-03    24600  \n",
      "       2019-01-04    34600  \n",
      "       2019-01-07    29500  \n",
      "       2019-01-08    53900  \n",
      "...                    ...  \n",
      "TSCO   2020-11-16  1918100  \n",
      "       2020-11-17  1459400  \n",
      "       2020-11-18  1486100  \n",
      "       2020-11-19  1248100  \n",
      "       2020-11-20  1324500  \n",
      "\n",
      "[1826 rows x 6 columns]\n"
     ]
    }
   ],
   "source": [
    "df.index.names = ['Ticker','Date']\n",
    "print(df)"
   ]
  },
  {
   "cell_type": "code",
   "execution_count": 196,
   "metadata": {},
   "outputs": [
    {
     "data": {
      "text/plain": [
       "Ticker\n",
       "BME    2019-01-02\n",
       "PSN    2019-05-08\n",
       "RTO    2020-01-24\n",
       "SMIN   2019-01-02\n",
       "TSCO   2019-01-02\n",
       "Name: Date, dtype: datetime64[ns]"
      ]
     },
     "execution_count": 196,
     "metadata": {},
     "output_type": "execute_result"
    }
   ],
   "source": [
    "df.reset_index('Date')['Date'].groupby('Ticker').min()"
   ]
  },
  {
   "cell_type": "markdown",
   "metadata": {},
   "source": [
    "Yes. It is from 2019/01/02."
   ]
  },
  {
   "cell_type": "code",
   "execution_count": 197,
   "metadata": {},
   "outputs": [
    {
     "data": {
      "text/plain": [
       "Ticker\n",
       "BME    2020-11-20\n",
       "PSN    2020-11-20\n",
       "RTO    2020-01-24\n",
       "SMIN   2020-11-20\n",
       "TSCO   2020-11-20\n",
       "Name: Date, dtype: datetime64[ns]"
      ]
     },
     "execution_count": 197,
     "metadata": {},
     "output_type": "execute_result"
    }
   ],
   "source": [
    "df.reset_index('Date')['Date'].groupby('Ticker').max()"
   ]
  },
  {
   "cell_type": "markdown",
   "metadata": {},
   "source": [
    "Yes. It is from 2020/11/20."
   ]
  },
  {
   "cell_type": "code",
   "execution_count": null,
   "metadata": {},
   "outputs": [],
   "source": []
  }
 ],
 "metadata": {
  "kernelspec": {
   "display_name": "Python 3",
   "language": "python",
   "name": "python3"
  },
  "language_info": {
   "codemirror_mode": {
    "name": "ipython",
    "version": 3
   },
   "file_extension": ".py",
   "mimetype": "text/x-python",
   "name": "python",
   "nbconvert_exporter": "python",
   "pygments_lexer": "ipython3",
   "version": "3.8.5"
  }
 },
 "nbformat": 4,
 "nbformat_minor": 4
}
