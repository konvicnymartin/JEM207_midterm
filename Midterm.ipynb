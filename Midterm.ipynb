{
 "cells": [
  {
   "cell_type": "markdown",
   "metadata": {},
   "source": [
    "# Midterm\n",
    "Konvicny Martin"
   ]
  },
  {
   "cell_type": "code",
   "execution_count": 179,
   "metadata": {},
   "outputs": [],
   "source": [
    "import json\n",
    "import requests\n",
    "import pandas as pd"
   ]
  },
  {
   "cell_type": "code",
   "execution_count": 180,
   "metadata": {},
   "outputs": [],
   "source": [
    "payload = '{\"cuni\":\"66805807\"}'\n",
    "r = requests.post('https://ies-midterm.soulution.rocks/login',payload)"
   ]
  },
  {
   "cell_type": "code",
   "execution_count": 181,
   "metadata": {},
   "outputs": [
    {
     "data": {
      "text/plain": [
       "<Response [200]>"
      ]
     },
     "execution_count": 181,
     "metadata": {},
     "output_type": "execute_result"
    }
   ],
   "source": [
    "r"
   ]
  },
  {
   "cell_type": "code",
   "execution_count": 182,
   "metadata": {},
   "outputs": [
    {
     "data": {
      "text/plain": [
       "{'data': {'personal_code': '1f3cf29a',\n",
       "  'dataset_ids': ['5aa21103e8',\n",
       "   'f894683be9',\n",
       "   '24f88cb68c',\n",
       "   '775352ba11',\n",
       "   '86c214b421']},\n",
       " 'message': 'Hello, Konvičný Martin! Good luck with the midterm. GET your data set from /data/file_id endpoint; use the codes you received in the data response as the file_id parameter! Print the personal code in your notebook.'}"
      ]
     },
     "execution_count": 182,
     "metadata": {},
     "output_type": "execute_result"
    }
   ],
   "source": [
    "outcome = json.loads(r.text)\n",
    "outcome"
   ]
  },
  {
   "cell_type": "code",
   "execution_count": 183,
   "metadata": {},
   "outputs": [
    {
     "name": "stdout",
     "output_type": "stream",
     "text": [
      "1f3cf29a\n"
     ]
    }
   ],
   "source": [
    "print(outcome['data']['personal_code'])"
   ]
  },
  {
   "cell_type": "code",
   "execution_count": 184,
   "metadata": {},
   "outputs": [
    {
     "name": "stdout",
     "output_type": "stream",
     "text": [
      "['5aa21103e8', 'f894683be9', '24f88cb68c', '775352ba11', '86c214b421']\n"
     ]
    }
   ],
   "source": [
    "codes = outcome['data']['dataset_ids']\n",
    "print(codes)"
   ]
  },
  {
   "cell_type": "code",
   "execution_count": 186,
   "metadata": {},
   "outputs": [],
   "source": [
    "dataset = {}\n",
    "n = 10\n",
    "for data_id in codes:\n",
    "    r = requests.get(url=f'https://ies-midterm.soulution.rocks/data/{data_id}')\n",
    "    i = 0\n",
    "    while r.status_code !=200:  \n",
    "        r=requests.get(url=f'https://ies-midterm.soulution.rocks/data/{data_id}')\n",
    "    d=r.json()['data']\n",
    "    ticker = d['company']\n",
    "    data = pd.DataFrame(d['data']).set_index('Date')\n",
    "    data.index = pd.to_datetime(data.index)\n",
    "    \n",
    "    dataset[ticker] = data"
   ]
  },
  {
   "cell_type": "code",
   "execution_count": 187,
   "metadata": {},
   "outputs": [],
   "source": [
    "    ticker = d['company']\n",
    "    data = pd.DataFrame(d['data']).set_index('Date')\n",
    "    data.index = pd.to_datetime(data.index)\n",
    "    \n",
    "    dataset[ticker] = data"
   ]
  },
  {
   "cell_type": "code",
   "execution_count": 198,
   "metadata": {},
   "outputs": [
    {
     "name": "stdout",
     "output_type": "stream",
     "text": [
      "                               Open                High                 Low  \\\n",
      "     Date                                                                     \n",
      "BME  2019-01-02  36.189998626708984  37.810001373291016  36.040000915527344   \n",
      "     2019-01-03   36.95000076293945                37.5  36.029998779296875   \n",
      "     2019-01-04   36.45000076293945   37.79999923706055   36.15999984741211   \n",
      "     2019-01-07                37.5   38.59000015258789                37.5   \n",
      "     2019-01-08               39.75               39.75  38.130001068115234   \n",
      "...                             ...                 ...                 ...   \n",
      "TSCO 2020-11-17   132.0800018310547   134.2100067138672   131.1199951171875   \n",
      "     2020-11-18               132.0  132.55999755859375  128.10000610351562   \n",
      "     2020-11-19   128.4600067138672   131.7899932861328               128.0   \n",
      "     2020-11-20   130.0500030517578  131.39999389648438   128.4199981689453   \n",
      "     NaT                        NaN                 NaN                 NaN   \n",
      "\n",
      "                              Close           Adj.Close   Volume  \n",
      "     Date                                                         \n",
      "BME  2019-01-02  37.630001068115234   33.53054428100586    42000  \n",
      "     2019-01-03   36.43000030517578  32.461265563964844    24600  \n",
      "     2019-01-04   37.31999969482422   33.25431823730469    34600  \n",
      "     2019-01-07   38.02000045776367    33.8780632019043    29500  \n",
      "     2019-01-08   38.43000030517578   34.24338912963867    53900  \n",
      "...                             ...                 ...      ...  \n",
      "TSCO 2020-11-17  131.67999267578125  131.27867126464844  1459400  \n",
      "     2020-11-18   128.4199981689453  128.02862548828125  1486100  \n",
      "     2020-11-19              131.25  130.84999084472656  1248100  \n",
      "     2020-11-20   129.6999969482422   129.6999969482422  1324500  \n",
      "     NaT                        NaN                 NaN      NaN  \n",
      "\n",
      "[1831 rows x 6 columns]\n"
     ]
    }
   ],
   "source": [
    "df = pd.concat(dataset)\n",
    "print(df)"
   ]
  },
  {
   "cell_type": "code",
   "execution_count": 199,
   "metadata": {},
   "outputs": [
    {
     "name": "stdout",
     "output_type": "stream",
     "text": [
      "                               Open                High                 Low  \\\n",
      "     Date                                                                     \n",
      "BME  2019-01-02  36.189998626708984  37.810001373291016  36.040000915527344   \n",
      "     2019-01-03   36.95000076293945                37.5  36.029998779296875   \n",
      "     2019-01-04   36.45000076293945   37.79999923706055   36.15999984741211   \n",
      "     2019-01-07                37.5   38.59000015258789                37.5   \n",
      "     2019-01-08               39.75               39.75  38.130001068115234   \n",
      "...                             ...                 ...                 ...   \n",
      "TSCO 2020-11-16  131.97000122070312  133.13999938964844  130.97999572753906   \n",
      "     2020-11-17   132.0800018310547   134.2100067138672   131.1199951171875   \n",
      "     2020-11-18               132.0  132.55999755859375  128.10000610351562   \n",
      "     2020-11-19   128.4600067138672   131.7899932861328               128.0   \n",
      "     2020-11-20   130.0500030517578  131.39999389648438   128.4199981689453   \n",
      "\n",
      "                              Close           Adj.Close   Volume  \n",
      "     Date                                                         \n",
      "BME  2019-01-02  37.630001068115234   33.53054428100586    42000  \n",
      "     2019-01-03   36.43000030517578  32.461265563964844    24600  \n",
      "     2019-01-04   37.31999969482422   33.25431823730469    34600  \n",
      "     2019-01-07   38.02000045776367    33.8780632019043    29500  \n",
      "     2019-01-08   38.43000030517578   34.24338912963867    53900  \n",
      "...                             ...                 ...      ...  \n",
      "TSCO 2020-11-16  132.82000732421875  132.41522216796875  1918100  \n",
      "     2020-11-17  131.67999267578125  131.27867126464844  1459400  \n",
      "     2020-11-18   128.4199981689453  128.02862548828125  1486100  \n",
      "     2020-11-19              131.25  130.84999084472656  1248100  \n",
      "     2020-11-20   129.6999969482422   129.6999969482422  1324500  \n",
      "\n",
      "[1826 rows x 6 columns]\n"
     ]
    }
   ],
   "source": [
    "df.dropna(how='all',inplace = True)\n",
    "print(df)"
   ]
  },
  {
   "cell_type": "code",
   "execution_count": 200,
   "metadata": {},
   "outputs": [
    {
     "name": "stdout",
     "output_type": "stream",
     "text": [
      "                       Open        High         Low       Close   Adj.Close  \\\n",
      "     Date                                                                     \n",
      "BME  2019-01-02   36.189999   37.810001   36.040001   37.630001   33.530544   \n",
      "     2019-01-03   36.950001   37.500000   36.029999   36.430000   32.461266   \n",
      "     2019-01-04   36.450001   37.799999   36.160000   37.320000   33.254318   \n",
      "     2019-01-07   37.500000   38.590000   37.500000   38.020000   33.878063   \n",
      "     2019-01-08   39.750000   39.750000   38.130001   38.430000   34.243389   \n",
      "...                     ...         ...         ...         ...         ...   \n",
      "TSCO 2020-11-16  131.970001  133.139999  130.979996  132.820007  132.415222   \n",
      "     2020-11-17  132.080002  134.210007  131.119995  131.679993  131.278671   \n",
      "     2020-11-18  132.000000  132.559998  128.100006  128.419998  128.028625   \n",
      "     2020-11-19  128.460007  131.789993  128.000000  131.250000  130.849991   \n",
      "     2020-11-20  130.050003  131.399994  128.419998  129.699997  129.699997   \n",
      "\n",
      "                  Volume  \n",
      "     Date                 \n",
      "BME  2019-01-02    42000  \n",
      "     2019-01-03    24600  \n",
      "     2019-01-04    34600  \n",
      "     2019-01-07    29500  \n",
      "     2019-01-08    53900  \n",
      "...                  ...  \n",
      "TSCO 2020-11-16  1918100  \n",
      "     2020-11-17  1459400  \n",
      "     2020-11-18  1486100  \n",
      "     2020-11-19  1248100  \n",
      "     2020-11-20  1324500  \n",
      "\n",
      "[1826 rows x 6 columns]\n"
     ]
    }
   ],
   "source": [
    "df = df.apply(lambda x: pd.to_numeric(x))\n",
    "print(df)"
   ]
  },
  {
   "cell_type": "code",
   "execution_count": 201,
   "metadata": {},
   "outputs": [
    {
     "name": "stdout",
     "output_type": "stream",
     "text": [
      "                         Open        High         Low       Close   Adj.Close  \\\n",
      "Ticker Date                                                                     \n",
      "BME    2019-01-02   36.189999   37.810001   36.040001   37.630001   33.530544   \n",
      "       2019-01-03   36.950001   37.500000   36.029999   36.430000   32.461266   \n",
      "       2019-01-04   36.450001   37.799999   36.160000   37.320000   33.254318   \n",
      "       2019-01-07   37.500000   38.590000   37.500000   38.020000   33.878063   \n",
      "       2019-01-08   39.750000   39.750000   38.130001   38.430000   34.243389   \n",
      "...                       ...         ...         ...         ...         ...   \n",
      "TSCO   2020-11-16  131.970001  133.139999  130.979996  132.820007  132.415222   \n",
      "       2020-11-17  132.080002  134.210007  131.119995  131.679993  131.278671   \n",
      "       2020-11-18  132.000000  132.559998  128.100006  128.419998  128.028625   \n",
      "       2020-11-19  128.460007  131.789993  128.000000  131.250000  130.849991   \n",
      "       2020-11-20  130.050003  131.399994  128.419998  129.699997  129.699997   \n",
      "\n",
      "                    Volume  \n",
      "Ticker Date                 \n",
      "BME    2019-01-02    42000  \n",
      "       2019-01-03    24600  \n",
      "       2019-01-04    34600  \n",
      "       2019-01-07    29500  \n",
      "       2019-01-08    53900  \n",
      "...                    ...  \n",
      "TSCO   2020-11-16  1918100  \n",
      "       2020-11-17  1459400  \n",
      "       2020-11-18  1486100  \n",
      "       2020-11-19  1248100  \n",
      "       2020-11-20  1324500  \n",
      "\n",
      "[1826 rows x 6 columns]\n"
     ]
    }
   ],
   "source": [
    "df.index.names = ['Ticker','Date']\n",
    "print(df)"
   ]
  },
  {
   "cell_type": "code",
   "execution_count": 215,
   "metadata": {},
   "outputs": [
    {
     "name": "stdout",
     "output_type": "stream",
     "text": [
      "Ticker\n",
      "BME    2019-01-02\n",
      "PSN    2019-05-08\n",
      "RTO    2020-01-24\n",
      "SMIN   2019-01-02\n",
      "TSCO   2019-01-02\n",
      "Name: Date, dtype: datetime64[ns]\n",
      "Ticker\n",
      "BME    2020-11-20\n",
      "PSN    2020-11-20\n",
      "RTO    2020-01-24\n",
      "SMIN   2020-11-20\n",
      "TSCO   2020-11-20\n",
      "Name: Date, dtype: datetime64[ns]\n"
     ]
    }
   ],
   "source": [
    "print(df.reset_index('Date')['Date'].groupby('Ticker').min())\n",
    "print(df.reset_index('Date')['Date'].groupby('Ticker').max())"
   ]
  },
  {
   "cell_type": "markdown",
   "metadata": {},
   "source": [
    "Yes. It is from 2019/01/02 to 2020/11/20."
   ]
  },
  {
   "cell_type": "code",
   "execution_count": 216,
   "metadata": {},
   "outputs": [
    {
     "name": "stdout",
     "output_type": "stream",
     "text": [
      "Ticker\n",
      "BME       46.650002\n",
      "RTO     1865.000000\n",
      "PSN       45.029999\n",
      "SMIN      39.713108\n",
      "TSCO     154.158752\n",
      "Name: Adj.Close, dtype: float64\n",
      "Ticker\n",
      "BME       26.664894\n",
      "RTO     1865.000000\n",
      "PSN       25.309999\n",
      "SMIN      20.771763\n",
      "TSCO      66.763199\n",
      "Name: Adj.Close, dtype: float64\n"
     ]
    }
   ],
   "source": [
    "print(df.groupby('Ticker')['Adj.Close'].max())\n",
    "print(df.groupby('Ticker')['Adj.Close'].min())"
   ]
  },
  {
   "cell_type": "code",
   "execution_count": 205,
   "metadata": {},
   "outputs": [
    {
     "data": {
      "text/plain": [
       "Ticker\n",
       "BME      (BME, 2020-03-23 00:00:00)\n",
       "RTO      (RTO, 2020-01-24 00:00:00)\n",
       "PSN      (PSN, 2019-05-08 00:00:00)\n",
       "SMIN    (SMIN, 2020-04-16 00:00:00)\n",
       "TSCO    (TSCO, 2019-01-31 00:00:00)\n",
       "Name: Volume, dtype: object"
      ]
     },
     "execution_count": 205,
     "metadata": {},
     "output_type": "execute_result"
    }
   ],
   "source": [
    "df.groupby('Ticker')['Volume'].idxmax()"
   ]
  },
  {
   "cell_type": "code",
   "execution_count": 206,
   "metadata": {},
   "outputs": [
    {
     "data": {
      "text/plain": [
       "Ticker\n",
       "BME      18166500\n",
       "RTO             0\n",
       "PSN     168647400\n",
       "SMIN     29874000\n",
       "TSCO    682972700\n",
       "Name: Volume, dtype: int64"
      ]
     },
     "execution_count": 206,
     "metadata": {},
     "output_type": "execute_result"
    }
   ],
   "source": [
    "df.groupby('Ticker')['Volume'].sum()"
   ]
  },
  {
   "cell_type": "code",
   "execution_count": 219,
   "metadata": {},
   "outputs": [
    {
     "data": {
      "text/plain": [
       "<AxesSubplot:xlabel='Date'>"
      ]
     },
     "execution_count": 219,
     "metadata": {},
     "output_type": "execute_result"
    },
    {
     "data": {
      "image/png": "[encoded data removed]",
      "text/plain": [
       "<Figure size 432x288 with 1 Axes>"
      ]
     },
     "metadata": {
      "needs_background": "light"
     },
     "output_type": "display_data"
    }
   ],
   "source": [
    "df.loc['PSN',:]['Adj.Close'].plot()"
   ]
  },
  {
   "cell_type": "code",
   "execution_count": 227,
   "metadata": {},
   "outputs": [
    {
     "name": "stdout",
     "output_type": "stream",
     "text": [
      "                         Open        High         Low       Close   Adj.Close  \\\n",
      "Ticker Date                                                                     \n",
      "BME    2019-01-02   36.189999   37.810001   36.040001   37.630001   33.530544   \n",
      "       2019-01-03   36.950001   37.500000   36.029999   36.430000   32.461266   \n",
      "       2019-01-04   36.450001   37.799999   36.160000   37.320000   33.254318   \n",
      "       2019-01-07   37.500000   38.590000   37.500000   38.020000   33.878063   \n",
      "       2019-01-08   39.750000   39.750000   38.130001   38.430000   34.243389   \n",
      "...                       ...         ...         ...         ...         ...   \n",
      "TSCO   2020-11-16  131.970001  133.139999  130.979996  132.820007  132.415222   \n",
      "       2020-11-17  132.080002  134.210007  131.119995  131.679993  131.278671   \n",
      "       2020-11-18  132.000000  132.559998  128.100006  128.419998  128.028625   \n",
      "       2020-11-19  128.460007  131.789993  128.000000  131.250000  130.849991   \n",
      "       2020-11-20  130.050003  131.399994  128.419998  129.699997  129.699997   \n",
      "\n",
      "                    Volume      lreg   Log.Ret      lret  \n",
      "Ticker Date                                               \n",
      "BME    2019-01-02    42000       NaN       NaN       NaN  \n",
      "       2019-01-03    24600 -0.031890 -0.031890 -0.031890  \n",
      "       2019-01-04    34600  0.024431  0.024431  0.024431  \n",
      "       2019-01-07    29500  0.018757  0.018757  0.018757  \n",
      "       2019-01-08    53900  0.010784  0.010784  0.010784  \n",
      "...                    ...       ...       ...       ...  \n",
      "TSCO   2020-11-16  1918100  0.006365  0.006365  0.006365  \n",
      "       2020-11-17  1459400 -0.008583 -0.008583 -0.008583  \n",
      "       2020-11-18  1486100 -0.024757 -0.024757 -0.024757  \n",
      "       2020-11-19  1248100  0.022037  0.022037  0.022037  \n",
      "       2020-11-20  1324500 -0.008789 -0.008789 -0.008789  \n",
      "\n",
      "[1826 rows x 9 columns]\n"
     ]
    }
   ],
   "source": [
    "df['lret'] = df['Adj.Close'].pct_change()\n",
    "print(df)"
   ]
  },
  {
   "cell_type": "code",
   "execution_count": 229,
   "metadata": {},
   "outputs": [
    {
     "name": "stdout",
     "output_type": "stream",
     "text": [
      "Ticker\n",
      "BME      (BME, 2020-03-25 00:00:00)\n",
      "RTO      (RTO, 2020-01-24 00:00:00)\n",
      "PSN      (PSN, 2020-03-26 00:00:00)\n",
      "SMIN    (SMIN, 2019-01-02 00:00:00)\n",
      "TSCO    (TSCO, 2019-01-02 00:00:00)\n",
      "Name: lret, dtype: object\n",
      "Ticker\n",
      "BME      (BME, 2020-03-12 00:00:00)\n",
      "RTO      (RTO, 2020-01-24 00:00:00)\n",
      "PSN      (PSN, 2019-05-08 00:00:00)\n",
      "SMIN    (SMIN, 2020-03-12 00:00:00)\n",
      "TSCO    (TSCO, 2020-03-09 00:00:00)\n",
      "Name: lret, dtype: object\n"
     ]
    }
   ],
   "source": [
    "print(df.groupby('Ticker')['lret'].idxmax())\n",
    "print(df.groupby('Ticker')['lret'].idxmin())"
   ]
  },
  {
   "cell_type": "code",
   "execution_count": 230,
   "metadata": {},
   "outputs": [
    {
     "name": "stdout",
     "output_type": "stream",
     "text": [
      "Ticker\n",
      "BME      0.149523\n",
      "RTO     39.809627\n",
      "PSN      0.119718\n",
      "SMIN     0.174806\n",
      "TSCO     1.098692\n",
      "Name: lret, dtype: float64\n",
      "Ticker\n",
      "BME     -0.111678\n",
      "RTO     39.809627\n",
      "PSN     -0.983877\n",
      "SMIN    -0.162536\n",
      "TSCO    -0.116310\n",
      "Name: lret, dtype: float64\n"
     ]
    }
   ],
   "source": [
    "print(df.groupby('Ticker')['lret'].max())\n",
    "print(df.groupby('Ticker')['lret'].min())"
   ]
  },
  {
   "cell_type": "code",
   "execution_count": null,
   "metadata": {},
   "outputs": [],
   "source": []
  },
  {
   "cell_type": "code",
   "execution_count": null,
   "metadata": {},
   "outputs": [],
   "source": []
  },
  {
   "cell_type": "code",
   "execution_count": 232,
   "metadata": {},
   "outputs": [
    {
     "ename": "ValueError",
     "evalue": "cannot reindex from a duplicate axis",
     "output_type": "error",
     "traceback": [
      "\u001b[0;31m---------------------------------------------------------------------------\u001b[0m",
      "\u001b[0;31mValueError\u001b[0m                                Traceback (most recent call last)",
      "\u001b[0;32m<ipython-input-232-e9643417060a>\u001b[0m in \u001b[0;36m<module>\u001b[0;34m\u001b[0m\n\u001b[0;32m----> 1\u001b[0;31m \u001b[0mdf\u001b[0m\u001b[0;34m[\u001b[0m\u001b[0;34m'month'\u001b[0m\u001b[0;34m]\u001b[0m \u001b[0;34m=\u001b[0m \u001b[0mdf\u001b[0m\u001b[0;34m.\u001b[0m\u001b[0mreset_index\u001b[0m\u001b[0;34m(\u001b[0m\u001b[0;34m'Date'\u001b[0m\u001b[0;34m)\u001b[0m\u001b[0;34m[\u001b[0m\u001b[0;34m'Date'\u001b[0m\u001b[0;34m]\u001b[0m\u001b[0;34m.\u001b[0m\u001b[0mastype\u001b[0m\u001b[0;34m(\u001b[0m\u001b[0mstr\u001b[0m\u001b[0;34m)\u001b[0m\u001b[0;34m.\u001b[0m\u001b[0mstr\u001b[0m\u001b[0;34m[\u001b[0m\u001b[0;34m:\u001b[0m\u001b[0;36m6\u001b[0m\u001b[0;34m]\u001b[0m\u001b[0;34m\u001b[0m\u001b[0;34m\u001b[0m\u001b[0m\n\u001b[0m",
      "\u001b[0;32m~/opt/anaconda3/lib/python3.8/site-packages/pandas/core/frame.py\u001b[0m in \u001b[0;36m__setitem__\u001b[0;34m(self, key, value)\u001b[0m\n\u001b[1;32m   3038\u001b[0m         \u001b[0;32melse\u001b[0m\u001b[0;34m:\u001b[0m\u001b[0;34m\u001b[0m\u001b[0;34m\u001b[0m\u001b[0m\n\u001b[1;32m   3039\u001b[0m             \u001b[0;31m# set column\u001b[0m\u001b[0;34m\u001b[0m\u001b[0;34m\u001b[0m\u001b[0;34m\u001b[0m\u001b[0m\n\u001b[0;32m-> 3040\u001b[0;31m             \u001b[0mself\u001b[0m\u001b[0;34m.\u001b[0m\u001b[0m_set_item\u001b[0m\u001b[0;34m(\u001b[0m\u001b[0mkey\u001b[0m\u001b[0;34m,\u001b[0m \u001b[0mvalue\u001b[0m\u001b[0;34m)\u001b[0m\u001b[0;34m\u001b[0m\u001b[0;34m\u001b[0m\u001b[0m\n\u001b[0m\u001b[1;32m   3041\u001b[0m \u001b[0;34m\u001b[0m\u001b[0m\n\u001b[1;32m   3042\u001b[0m     \u001b[0;32mdef\u001b[0m \u001b[0m_setitem_slice\u001b[0m\u001b[0;34m(\u001b[0m\u001b[0mself\u001b[0m\u001b[0;34m,\u001b[0m \u001b[0mkey\u001b[0m\u001b[0;34m:\u001b[0m \u001b[0mslice\u001b[0m\u001b[0;34m,\u001b[0m \u001b[0mvalue\u001b[0m\u001b[0;34m)\u001b[0m\u001b[0;34m:\u001b[0m\u001b[0;34m\u001b[0m\u001b[0;34m\u001b[0m\u001b[0m\n",
      "\u001b[0;32m~/opt/anaconda3/lib/python3.8/site-packages/pandas/core/frame.py\u001b[0m in \u001b[0;36m_set_item\u001b[0;34m(self, key, value)\u001b[0m\n\u001b[1;32m   3114\u001b[0m         \"\"\"\n\u001b[1;32m   3115\u001b[0m         \u001b[0mself\u001b[0m\u001b[0;34m.\u001b[0m\u001b[0m_ensure_valid_index\u001b[0m\u001b[0;34m(\u001b[0m\u001b[0mvalue\u001b[0m\u001b[0;34m)\u001b[0m\u001b[0;34m\u001b[0m\u001b[0;34m\u001b[0m\u001b[0m\n\u001b[0;32m-> 3116\u001b[0;31m         \u001b[0mvalue\u001b[0m \u001b[0;34m=\u001b[0m \u001b[0mself\u001b[0m\u001b[0;34m.\u001b[0m\u001b[0m_sanitize_column\u001b[0m\u001b[0;34m(\u001b[0m\u001b[0mkey\u001b[0m\u001b[0;34m,\u001b[0m \u001b[0mvalue\u001b[0m\u001b[0;34m)\u001b[0m\u001b[0;34m\u001b[0m\u001b[0;34m\u001b[0m\u001b[0m\n\u001b[0m\u001b[1;32m   3117\u001b[0m         \u001b[0mNDFrame\u001b[0m\u001b[0;34m.\u001b[0m\u001b[0m_set_item\u001b[0m\u001b[0;34m(\u001b[0m\u001b[0mself\u001b[0m\u001b[0;34m,\u001b[0m \u001b[0mkey\u001b[0m\u001b[0;34m,\u001b[0m \u001b[0mvalue\u001b[0m\u001b[0;34m)\u001b[0m\u001b[0;34m\u001b[0m\u001b[0;34m\u001b[0m\u001b[0m\n\u001b[1;32m   3118\u001b[0m \u001b[0;34m\u001b[0m\u001b[0m\n",
      "\u001b[0;32m~/opt/anaconda3/lib/python3.8/site-packages/pandas/core/frame.py\u001b[0m in \u001b[0;36m_sanitize_column\u001b[0;34m(self, key, value, broadcast)\u001b[0m\n\u001b[1;32m   3739\u001b[0m \u001b[0;34m\u001b[0m\u001b[0m\n\u001b[1;32m   3740\u001b[0m         \u001b[0;32mif\u001b[0m \u001b[0misinstance\u001b[0m\u001b[0;34m(\u001b[0m\u001b[0mvalue\u001b[0m\u001b[0;34m,\u001b[0m \u001b[0mSeries\u001b[0m\u001b[0;34m)\u001b[0m\u001b[0;34m:\u001b[0m\u001b[0;34m\u001b[0m\u001b[0;34m\u001b[0m\u001b[0m\n\u001b[0;32m-> 3741\u001b[0;31m             \u001b[0mvalue\u001b[0m \u001b[0;34m=\u001b[0m \u001b[0mreindexer\u001b[0m\u001b[0;34m(\u001b[0m\u001b[0mvalue\u001b[0m\u001b[0;34m)\u001b[0m\u001b[0;34m\u001b[0m\u001b[0;34m\u001b[0m\u001b[0m\n\u001b[0m\u001b[1;32m   3742\u001b[0m \u001b[0;34m\u001b[0m\u001b[0m\n\u001b[1;32m   3743\u001b[0m         \u001b[0;32melif\u001b[0m \u001b[0misinstance\u001b[0m\u001b[0;34m(\u001b[0m\u001b[0mvalue\u001b[0m\u001b[0;34m,\u001b[0m \u001b[0mDataFrame\u001b[0m\u001b[0;34m)\u001b[0m\u001b[0;34m:\u001b[0m\u001b[0;34m\u001b[0m\u001b[0;34m\u001b[0m\u001b[0m\n",
      "\u001b[0;32m~/opt/anaconda3/lib/python3.8/site-packages/pandas/core/frame.py\u001b[0m in \u001b[0;36mreindexer\u001b[0;34m(value)\u001b[0m\n\u001b[1;32m   3730\u001b[0m                     \u001b[0;32mif\u001b[0m \u001b[0;32mnot\u001b[0m \u001b[0mvalue\u001b[0m\u001b[0;34m.\u001b[0m\u001b[0mindex\u001b[0m\u001b[0;34m.\u001b[0m\u001b[0mis_unique\u001b[0m\u001b[0;34m:\u001b[0m\u001b[0;34m\u001b[0m\u001b[0;34m\u001b[0m\u001b[0m\n\u001b[1;32m   3731\u001b[0m                         \u001b[0;31m# duplicate axis\u001b[0m\u001b[0;34m\u001b[0m\u001b[0;34m\u001b[0m\u001b[0;34m\u001b[0m\u001b[0m\n\u001b[0;32m-> 3732\u001b[0;31m                         \u001b[0;32mraise\u001b[0m \u001b[0merr\u001b[0m\u001b[0;34m\u001b[0m\u001b[0;34m\u001b[0m\u001b[0m\n\u001b[0m\u001b[1;32m   3733\u001b[0m \u001b[0;34m\u001b[0m\u001b[0m\n\u001b[1;32m   3734\u001b[0m                     \u001b[0;31m# other\u001b[0m\u001b[0;34m\u001b[0m\u001b[0;34m\u001b[0m\u001b[0;34m\u001b[0m\u001b[0m\n",
      "\u001b[0;32m~/opt/anaconda3/lib/python3.8/site-packages/pandas/core/frame.py\u001b[0m in \u001b[0;36mreindexer\u001b[0;34m(value)\u001b[0m\n\u001b[1;32m   3725\u001b[0m                 \u001b[0;31m# GH 4107\u001b[0m\u001b[0;34m\u001b[0m\u001b[0;34m\u001b[0m\u001b[0;34m\u001b[0m\u001b[0m\n\u001b[1;32m   3726\u001b[0m                 \u001b[0;32mtry\u001b[0m\u001b[0;34m:\u001b[0m\u001b[0;34m\u001b[0m\u001b[0;34m\u001b[0m\u001b[0m\n\u001b[0;32m-> 3727\u001b[0;31m                     \u001b[0mvalue\u001b[0m \u001b[0;34m=\u001b[0m \u001b[0mvalue\u001b[0m\u001b[0;34m.\u001b[0m\u001b[0mreindex\u001b[0m\u001b[0;34m(\u001b[0m\u001b[0mself\u001b[0m\u001b[0;34m.\u001b[0m\u001b[0mindex\u001b[0m\u001b[0;34m)\u001b[0m\u001b[0;34m.\u001b[0m\u001b[0m_values\u001b[0m\u001b[0;34m\u001b[0m\u001b[0;34m\u001b[0m\u001b[0m\n\u001b[0m\u001b[1;32m   3728\u001b[0m                 \u001b[0;32mexcept\u001b[0m \u001b[0mValueError\u001b[0m \u001b[0;32mas\u001b[0m \u001b[0merr\u001b[0m\u001b[0;34m:\u001b[0m\u001b[0;34m\u001b[0m\u001b[0;34m\u001b[0m\u001b[0m\n\u001b[1;32m   3729\u001b[0m                     \u001b[0;31m# raised in MultiIndex.from_tuples, see test_insert_error_msmgs\u001b[0m\u001b[0;34m\u001b[0m\u001b[0;34m\u001b[0m\u001b[0;34m\u001b[0m\u001b[0m\n",
      "\u001b[0;32m~/opt/anaconda3/lib/python3.8/site-packages/pandas/core/series.py\u001b[0m in \u001b[0;36mreindex\u001b[0;34m(self, index, **kwargs)\u001b[0m\n\u001b[1;32m   4397\u001b[0m     )\n\u001b[1;32m   4398\u001b[0m     \u001b[0;32mdef\u001b[0m \u001b[0mreindex\u001b[0m\u001b[0;34m(\u001b[0m\u001b[0mself\u001b[0m\u001b[0;34m,\u001b[0m \u001b[0mindex\u001b[0m\u001b[0;34m=\u001b[0m\u001b[0;32mNone\u001b[0m\u001b[0;34m,\u001b[0m \u001b[0;34m**\u001b[0m\u001b[0mkwargs\u001b[0m\u001b[0;34m)\u001b[0m\u001b[0;34m:\u001b[0m\u001b[0;34m\u001b[0m\u001b[0;34m\u001b[0m\u001b[0m\n\u001b[0;32m-> 4399\u001b[0;31m         \u001b[0;32mreturn\u001b[0m \u001b[0msuper\u001b[0m\u001b[0;34m(\u001b[0m\u001b[0;34m)\u001b[0m\u001b[0;34m.\u001b[0m\u001b[0mreindex\u001b[0m\u001b[0;34m(\u001b[0m\u001b[0mindex\u001b[0m\u001b[0;34m=\u001b[0m\u001b[0mindex\u001b[0m\u001b[0;34m,\u001b[0m \u001b[0;34m**\u001b[0m\u001b[0mkwargs\u001b[0m\u001b[0;34m)\u001b[0m\u001b[0;34m\u001b[0m\u001b[0;34m\u001b[0m\u001b[0m\n\u001b[0m\u001b[1;32m   4400\u001b[0m \u001b[0;34m\u001b[0m\u001b[0m\n\u001b[1;32m   4401\u001b[0m     def drop(\n",
      "\u001b[0;32m~/opt/anaconda3/lib/python3.8/site-packages/pandas/core/generic.py\u001b[0m in \u001b[0;36mreindex\u001b[0;34m(self, *args, **kwargs)\u001b[0m\n\u001b[1;32m   4459\u001b[0m \u001b[0;34m\u001b[0m\u001b[0m\n\u001b[1;32m   4460\u001b[0m         \u001b[0;31m# perform the reindex on the axes\u001b[0m\u001b[0;34m\u001b[0m\u001b[0;34m\u001b[0m\u001b[0;34m\u001b[0m\u001b[0m\n\u001b[0;32m-> 4461\u001b[0;31m         return self._reindex_axes(\n\u001b[0m\u001b[1;32m   4462\u001b[0m             \u001b[0maxes\u001b[0m\u001b[0;34m,\u001b[0m \u001b[0mlevel\u001b[0m\u001b[0;34m,\u001b[0m \u001b[0mlimit\u001b[0m\u001b[0;34m,\u001b[0m \u001b[0mtolerance\u001b[0m\u001b[0;34m,\u001b[0m \u001b[0mmethod\u001b[0m\u001b[0;34m,\u001b[0m \u001b[0mfill_value\u001b[0m\u001b[0;34m,\u001b[0m \u001b[0mcopy\u001b[0m\u001b[0;34m\u001b[0m\u001b[0;34m\u001b[0m\u001b[0m\n\u001b[1;32m   4463\u001b[0m         ).__finalize__(self, method=\"reindex\")\n",
      "\u001b[0;32m~/opt/anaconda3/lib/python3.8/site-packages/pandas/core/generic.py\u001b[0m in \u001b[0;36m_reindex_axes\u001b[0;34m(self, axes, level, limit, tolerance, method, fill_value, copy)\u001b[0m\n\u001b[1;32m   4479\u001b[0m \u001b[0;34m\u001b[0m\u001b[0m\n\u001b[1;32m   4480\u001b[0m             \u001b[0maxis\u001b[0m \u001b[0;34m=\u001b[0m \u001b[0mself\u001b[0m\u001b[0;34m.\u001b[0m\u001b[0m_get_axis_number\u001b[0m\u001b[0;34m(\u001b[0m\u001b[0ma\u001b[0m\u001b[0;34m)\u001b[0m\u001b[0;34m\u001b[0m\u001b[0;34m\u001b[0m\u001b[0m\n\u001b[0;32m-> 4481\u001b[0;31m             obj = obj._reindex_with_indexers(\n\u001b[0m\u001b[1;32m   4482\u001b[0m                 \u001b[0;34m{\u001b[0m\u001b[0maxis\u001b[0m\u001b[0;34m:\u001b[0m \u001b[0;34m[\u001b[0m\u001b[0mnew_index\u001b[0m\u001b[0;34m,\u001b[0m \u001b[0mindexer\u001b[0m\u001b[0;34m]\u001b[0m\u001b[0;34m}\u001b[0m\u001b[0;34m,\u001b[0m\u001b[0;34m\u001b[0m\u001b[0;34m\u001b[0m\u001b[0m\n\u001b[1;32m   4483\u001b[0m                 \u001b[0mfill_value\u001b[0m\u001b[0;34m=\u001b[0m\u001b[0mfill_value\u001b[0m\u001b[0;34m,\u001b[0m\u001b[0;34m\u001b[0m\u001b[0;34m\u001b[0m\u001b[0m\n",
      "\u001b[0;32m~/opt/anaconda3/lib/python3.8/site-packages/pandas/core/generic.py\u001b[0m in \u001b[0;36m_reindex_with_indexers\u001b[0;34m(self, reindexers, fill_value, copy, allow_dups)\u001b[0m\n\u001b[1;32m   4522\u001b[0m \u001b[0;34m\u001b[0m\u001b[0m\n\u001b[1;32m   4523\u001b[0m             \u001b[0;31m# TODO: speed up on homogeneous DataFrame objects\u001b[0m\u001b[0;34m\u001b[0m\u001b[0;34m\u001b[0m\u001b[0;34m\u001b[0m\u001b[0m\n\u001b[0;32m-> 4524\u001b[0;31m             new_data = new_data.reindex_indexer(\n\u001b[0m\u001b[1;32m   4525\u001b[0m                 \u001b[0mindex\u001b[0m\u001b[0;34m,\u001b[0m\u001b[0;34m\u001b[0m\u001b[0;34m\u001b[0m\u001b[0m\n\u001b[1;32m   4526\u001b[0m                 \u001b[0mindexer\u001b[0m\u001b[0;34m,\u001b[0m\u001b[0;34m\u001b[0m\u001b[0;34m\u001b[0m\u001b[0m\n",
      "\u001b[0;32m~/opt/anaconda3/lib/python3.8/site-packages/pandas/core/internals/managers.py\u001b[0m in \u001b[0;36mreindex_indexer\u001b[0;34m(self, new_axis, indexer, axis, fill_value, allow_dups, copy, consolidate)\u001b[0m\n\u001b[1;32m   1274\u001b[0m         \u001b[0;31m# some axes don't allow reindexing with dups\u001b[0m\u001b[0;34m\u001b[0m\u001b[0;34m\u001b[0m\u001b[0;34m\u001b[0m\u001b[0m\n\u001b[1;32m   1275\u001b[0m         \u001b[0;32mif\u001b[0m \u001b[0;32mnot\u001b[0m \u001b[0mallow_dups\u001b[0m\u001b[0;34m:\u001b[0m\u001b[0;34m\u001b[0m\u001b[0;34m\u001b[0m\u001b[0m\n\u001b[0;32m-> 1276\u001b[0;31m             \u001b[0mself\u001b[0m\u001b[0;34m.\u001b[0m\u001b[0maxes\u001b[0m\u001b[0;34m[\u001b[0m\u001b[0maxis\u001b[0m\u001b[0;34m]\u001b[0m\u001b[0;34m.\u001b[0m\u001b[0m_can_reindex\u001b[0m\u001b[0;34m(\u001b[0m\u001b[0mindexer\u001b[0m\u001b[0;34m)\u001b[0m\u001b[0;34m\u001b[0m\u001b[0;34m\u001b[0m\u001b[0m\n\u001b[0m\u001b[1;32m   1277\u001b[0m \u001b[0;34m\u001b[0m\u001b[0m\n\u001b[1;32m   1278\u001b[0m         \u001b[0;32mif\u001b[0m \u001b[0maxis\u001b[0m \u001b[0;34m>=\u001b[0m \u001b[0mself\u001b[0m\u001b[0;34m.\u001b[0m\u001b[0mndim\u001b[0m\u001b[0;34m:\u001b[0m\u001b[0;34m\u001b[0m\u001b[0;34m\u001b[0m\u001b[0m\n",
      "\u001b[0;32m~/opt/anaconda3/lib/python3.8/site-packages/pandas/core/indexes/base.py\u001b[0m in \u001b[0;36m_can_reindex\u001b[0;34m(self, indexer)\u001b[0m\n\u001b[1;32m   3287\u001b[0m         \u001b[0;31m# trying to reindex on an axis with duplicates\u001b[0m\u001b[0;34m\u001b[0m\u001b[0;34m\u001b[0m\u001b[0;34m\u001b[0m\u001b[0m\n\u001b[1;32m   3288\u001b[0m         \u001b[0;32mif\u001b[0m \u001b[0;32mnot\u001b[0m \u001b[0mself\u001b[0m\u001b[0;34m.\u001b[0m\u001b[0mis_unique\u001b[0m \u001b[0;32mand\u001b[0m \u001b[0mlen\u001b[0m\u001b[0;34m(\u001b[0m\u001b[0mindexer\u001b[0m\u001b[0;34m)\u001b[0m\u001b[0;34m:\u001b[0m\u001b[0;34m\u001b[0m\u001b[0;34m\u001b[0m\u001b[0m\n\u001b[0;32m-> 3289\u001b[0;31m             \u001b[0;32mraise\u001b[0m \u001b[0mValueError\u001b[0m\u001b[0;34m(\u001b[0m\u001b[0;34m\"cannot reindex from a duplicate axis\"\u001b[0m\u001b[0;34m)\u001b[0m\u001b[0;34m\u001b[0m\u001b[0;34m\u001b[0m\u001b[0m\n\u001b[0m\u001b[1;32m   3290\u001b[0m \u001b[0;34m\u001b[0m\u001b[0m\n\u001b[1;32m   3291\u001b[0m     \u001b[0;32mdef\u001b[0m \u001b[0mreindex\u001b[0m\u001b[0;34m(\u001b[0m\u001b[0mself\u001b[0m\u001b[0;34m,\u001b[0m \u001b[0mtarget\u001b[0m\u001b[0;34m,\u001b[0m \u001b[0mmethod\u001b[0m\u001b[0;34m=\u001b[0m\u001b[0;32mNone\u001b[0m\u001b[0;34m,\u001b[0m \u001b[0mlevel\u001b[0m\u001b[0;34m=\u001b[0m\u001b[0;32mNone\u001b[0m\u001b[0;34m,\u001b[0m \u001b[0mlimit\u001b[0m\u001b[0;34m=\u001b[0m\u001b[0;32mNone\u001b[0m\u001b[0;34m,\u001b[0m \u001b[0mtolerance\u001b[0m\u001b[0;34m=\u001b[0m\u001b[0;32mNone\u001b[0m\u001b[0;34m)\u001b[0m\u001b[0;34m:\u001b[0m\u001b[0;34m\u001b[0m\u001b[0;34m\u001b[0m\u001b[0m\n",
      "\u001b[0;31mValueError\u001b[0m: cannot reindex from a duplicate axis"
     ]
    }
   ],
   "source": [
    "df['month'] = df.reset_index('Date')['Date'].astype(str).str[:6]"
   ]
  },
  {
   "cell_type": "code",
   "execution_count": null,
   "metadata": {},
   "outputs": [],
   "source": []
  }
 ],
 "metadata": {
  "kernelspec": {
   "display_name": "Python 3",
   "language": "python",
   "name": "python3"
  },
  "language_info": {
   "codemirror_mode": {
    "name": "ipython",
    "version": 3
   },
   "file_extension": ".py",
   "mimetype": "text/x-python",
   "name": "python",
   "nbconvert_exporter": "python",
   "pygments_lexer": "ipython3",
   "version": "3.8.5"
  }
 },
 "nbformat": 4,
 "nbformat_minor": 4
}
